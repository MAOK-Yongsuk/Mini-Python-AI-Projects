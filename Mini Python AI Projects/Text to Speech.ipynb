{
 "cells": [
  {
   "cell_type": "code",
   "execution_count": 4,
   "id": "1d5afe60",
   "metadata": {},
   "outputs": [
    {
     "name": "stdout",
     "output_type": "stream",
     "text": [
      "Collecting gtts\n",
      "  Using cached gTTS-2.2.4-py3-none-any.whl (26 kB)\n",
      "Requirement already satisfied: six in c:\\users\\hp\\anaconda3\\lib\\site-packages (from gtts) (1.16.0)\n",
      "Requirement already satisfied: requests in c:\\users\\hp\\anaconda3\\lib\\site-packages (from gtts) (2.26.0)\n",
      "Requirement already satisfied: click in c:\\users\\hp\\anaconda3\\lib\\site-packages (from gtts) (8.0.3)\n",
      "Requirement already satisfied: colorama in c:\\users\\hp\\anaconda3\\lib\\site-packages (from click->gtts) (0.4.4)\n",
      "Requirement already satisfied: charset-normalizer~=2.0.0 in c:\\users\\hp\\anaconda3\\lib\\site-packages (from requests->gtts) (2.0.4)\n",
      "Requirement already satisfied: idna<4,>=2.5 in c:\\users\\hp\\anaconda3\\lib\\site-packages (from requests->gtts) (3.2)\n",
      "Requirement already satisfied: urllib3<1.27,>=1.21.1 in c:\\users\\hp\\anaconda3\\lib\\site-packages (from requests->gtts) (1.26.7)\n",
      "Requirement already satisfied: certifi>=2017.4.17 in c:\\users\\hp\\anaconda3\\lib\\site-packages (from requests->gtts) (2021.10.8)\n",
      "Installing collected packages: gtts\n",
      "Successfully installed gtts-2.2.4\n",
      "Note: you may need to restart the kernel to use updated packages.\n"
     ]
    }
   ],
   "source": [
    "pip install gtts"
   ]
  },
  {
   "cell_type": "code",
   "execution_count": 5,
   "id": "459c81e8",
   "metadata": {},
   "outputs": [
    {
     "name": "stdout",
     "output_type": "stream",
     "text": [
      "{'af': 'Afrikaans', 'ar': 'Arabic', 'bg': 'Bulgarian', 'bn': 'Bengali', 'bs': 'Bosnian', 'ca': 'Catalan', 'cs': 'Czech', 'cy': 'Welsh', 'da': 'Danish', 'de': 'German', 'el': 'Greek', 'en': 'English', 'eo': 'Esperanto', 'es': 'Spanish', 'et': 'Estonian', 'fi': 'Finnish', 'fr': 'French', 'gu': 'Gujarati', 'hi': 'Hindi', 'hr': 'Croatian', 'hu': 'Hungarian', 'hy': 'Armenian', 'id': 'Indonesian', 'is': 'Icelandic', 'it': 'Italian', 'iw': 'Hebrew', 'ja': 'Japanese', 'jw': 'Javanese', 'km': 'Khmer', 'kn': 'Kannada', 'ko': 'Korean', 'la': 'Latin', 'lv': 'Latvian', 'mk': 'Macedonian', 'ms': 'Malay', 'ml': 'Malayalam', 'mr': 'Marathi', 'my': 'Myanmar (Burmese)', 'ne': 'Nepali', 'nl': 'Dutch', 'no': 'Norwegian', 'pl': 'Polish', 'pt': 'Portuguese', 'ro': 'Romanian', 'ru': 'Russian', 'si': 'Sinhala', 'sk': 'Slovak', 'sq': 'Albanian', 'sr': 'Serbian', 'su': 'Sundanese', 'sv': 'Swedish', 'sw': 'Swahili', 'ta': 'Tamil', 'te': 'Telugu', 'th': 'Thai', 'tl': 'Filipino', 'tr': 'Turkish', 'uk': 'Ukrainian', 'ur': 'Urdu', 'vi': 'Vietnamese', 'zh-CN': 'Chinese', 'zh-TW': 'Chinese (Mandarin/Taiwan)', 'zh': 'Chinese (Mandarin)'}\n"
     ]
    },
    {
     "data": {
      "text/html": [
       "\n",
       "                <audio  controls=\"controls\" autoplay=\"autoplay\">\n",
       "                    <source src=\"data:audio/mpeg;base64,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\" type=\"audio/mpeg\" />\n",
       "                    Your browser does not support the audio element.\n",
       "                </audio>\n",
       "              "
      ],
      "text/plain": [
       "<IPython.lib.display.Audio object>"
      ]
     },
     "execution_count": 5,
     "metadata": {},
     "output_type": "execute_result"
    }
   ],
   "source": [
    "# Text to Speech By GTTS\n",
    "\n",
    "import gtts\n",
    "\n",
    "from IPython.display import Audio\n",
    "\n",
    "print(gtts.lang.tts_langs())\n",
    "\n",
    "textt = \"สวัสดีครับ ผมชื่อหมอก\"\n",
    "\n",
    "language =  \"th\"\n",
    "\n",
    "gtts_object = gtts.gTTS(text = textt, lang = language, slow = False)\n",
    "\n",
    "mp3_file = \"PythonSpeech.mp3\"\n",
    "\n",
    "gtts_object.save(mp3_file)\n",
    "Audio(mp3_file, autoplay = True)"
   ]
  },
  {
   "cell_type": "code",
   "execution_count": 2,
   "id": "0b589f5f",
   "metadata": {},
   "outputs": [
    {
     "name": "stdout",
     "output_type": "stream",
     "text": [
      "Collecting pyttsx3\n",
      "  Using cached pyttsx3-2.90-py3-none-any.whl (39 kB)\n",
      "Collecting pypiwin32\n",
      "  Using cached pypiwin32-223-py3-none-any.whl (1.7 kB)\n",
      "Requirement already satisfied: pywin32 in c:\\users\\hp\\anaconda3\\lib\\site-packages (from pyttsx3) (228)\n",
      "Requirement already satisfied: comtypes in c:\\users\\hp\\anaconda3\\lib\\site-packages (from pyttsx3) (1.1.10)\n",
      "Installing collected packages: pypiwin32, pyttsx3\n",
      "Successfully installed pypiwin32-223 pyttsx3-2.90\n",
      "Note: you may need to restart the kernel to use updated packages.\n"
     ]
    }
   ],
   "source": [
    "pip install pyttsx3"
   ]
  },
  {
   "cell_type": "code",
   "execution_count": 6,
   "id": "fc2448a3",
   "metadata": {},
   "outputs": [
    {
     "name": "stdout",
     "output_type": "stream",
     "text": [
      "Enter text: i love you so much\n"
     ]
    }
   ],
   "source": [
    "# Text to Speech By pyttsx3\n",
    "\n",
    "import pyttsx3\n",
    "\n",
    "engine = pyttsx3.init(\"sapi5\")\n",
    "\n",
    "engine.setProperty(\"rate\", 200)\n",
    "\n",
    "voices = engine.getProperty(\"voices\")\n",
    "#for voice in voices:\n",
    "    #print(voice)\n",
    "\n",
    "engine.setProperty(\"voice\", voices[0].id)\n",
    "\n",
    "engine.setProperty(\"volume\", 1.0)\n",
    "\n",
    "mp3_file = \"pytssx3PythonSpeech.mp3\"\n",
    "\n",
    "def speak(inputtext):\n",
    "    engine.say(inputtext)\n",
    "    engine.runAndWait()\n",
    "\n",
    "text_to_speech = input(\"Enter text: \")\n",
    "speak(text_to_speech)\n",
    "\n",
    "engine.save_to_file(text_to_speech, mp3_file)\n",
    "engine.runAndWait()"
   ]
  },
  {
   "cell_type": "code",
   "execution_count": null,
   "id": "892589ac",
   "metadata": {},
   "outputs": [],
   "source": []
  }
 ],
 "metadata": {
  "kernelspec": {
   "display_name": "Python 3 (ipykernel)",
   "language": "python",
   "name": "python3"
  },
  "language_info": {
   "codemirror_mode": {
    "name": "ipython",
    "version": 3
   },
   "file_extension": ".py",
   "mimetype": "text/x-python",
   "name": "python",
   "nbconvert_exporter": "python",
   "pygments_lexer": "ipython3",
   "version": "3.9.7"
  }
 },
 "nbformat": 4,
 "nbformat_minor": 5
}
