{
 "cells": [
  {
   "cell_type": "code",
   "execution_count": 1,
   "id": "7cfd1dd5",
   "metadata": {},
   "outputs": [
    {
     "name": "stdout",
     "output_type": "stream",
     "text": [
      "Collecting PyPDF4\n",
      "  Downloading PyPDF4-1.27.0.tar.gz (63 kB)\n",
      "Building wheels for collected packages: PyPDF4\n",
      "  Building wheel for PyPDF4 (setup.py): started\n",
      "  Building wheel for PyPDF4 (setup.py): finished with status 'done'\n",
      "  Created wheel for PyPDF4: filename=PyPDF4-1.27.0-py3-none-any.whl size=61248 sha256=f00b23dc6d1e750453fbdd793534fabdf96c2e8b982a2070462cea49eab4fea7\n",
      "  Stored in directory: c:\\users\\hp\\appdata\\local\\pip\\cache\\wheels\\cd\\0e\\4a\\e6f842a6035ccffff0dab29c39dd06c3427560a82783355a83\n",
      "Successfully built PyPDF4\n",
      "Installing collected packages: PyPDF4\n",
      "Successfully installed PyPDF4-1.27.0\n"
     ]
    }
   ],
   "source": [
    "!pip install PyPDF4"
   ]
  },
  {
   "cell_type": "code",
   "execution_count": 56,
   "id": "3721056c",
   "metadata": {},
   "outputs": [
    {
     "data": {
      "text/plain": [
       "'Dont ever let somebody tell you you cant do something not even me.   Alright? You dream, you gotta protect it.   People cant do something themselves, they wanna tell you you cant do it.   If you want something, go get it. Period. '"
      ]
     },
     "execution_count": 56,
     "metadata": {},
     "output_type": "execute_result"
    }
   ],
   "source": [
    "# PDF to text By PyPDF4\n",
    "import PyPDF4\n",
    "\n",
    "pdfReader = PyPDF4.PdfFileReader(\"testtext.pdf\")\n",
    "\n",
    "Page = pdfReader.getPage(0)\n",
    "\n",
    "Page.extractText().replace(\"\\n\", \"\")"
   ]
  }
 ],
 "metadata": {
  "kernelspec": {
   "display_name": "Python 3 (ipykernel)",
   "language": "python",
   "name": "python3"
  },
  "language_info": {
   "codemirror_mode": {
    "name": "ipython",
    "version": 3
   },
   "file_extension": ".py",
   "mimetype": "text/x-python",
   "name": "python",
   "nbconvert_exporter": "python",
   "pygments_lexer": "ipython3",
   "version": "3.9.7"
  }
 },
 "nbformat": 4,
 "nbformat_minor": 5
}
